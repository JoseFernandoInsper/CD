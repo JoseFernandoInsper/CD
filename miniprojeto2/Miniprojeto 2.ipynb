{
 "cells": [
  {
   "cell_type": "markdown",
   "metadata": {},
   "source": [
    "# Primeira Parte\n",
    "\n"
   ]
  },
  {
   "cell_type": "markdown",
   "metadata": {},
   "source": [
    "Construindo valores da população: "
   ]
  },
  {
   "cell_type": "code",
   "execution_count": 1,
   "metadata": {
    "collapsed": false
   },
   "outputs": [],
   "source": [
    "import numpy as np\n",
    "import pandas as pd\n",
    "from scipy.stats import alpha\n",
    "import matplotlib.pyplot as plt\n",
    "from scipy import stats"
   ]
  },
  {
   "cell_type": "code",
   "execution_count": 2,
   "metadata": {
    "collapsed": false
   },
   "outputs": [],
   "source": [
    "dados = stats.alpha.rvs( a=100 ,size=100000)\n",
    "mu = np.mean(dados)\n",
    "sigma = np.var(dados)**0.5\n",
    "k = pd.Series(dados)"
   ]
  },
  {
   "cell_type": "code",
   "execution_count": 3,
   "metadata": {
    "collapsed": false
   },
   "outputs": [
    {
     "name": "stdout",
     "output_type": "stream",
     "text": [
      "0        0.009883\n",
      "1        0.009965\n",
      "2        0.010046\n",
      "3        0.009992\n",
      "4        0.010060\n",
      "5        0.010181\n",
      "6        0.009994\n",
      "7        0.010021\n",
      "8        0.009784\n",
      "9        0.010176\n",
      "10       0.009860\n",
      "11       0.009878\n",
      "12       0.009855\n",
      "13       0.009888\n",
      "14       0.010028\n",
      "15       0.010252\n",
      "16       0.010002\n",
      "17       0.010011\n",
      "18       0.010016\n",
      "19       0.009906\n",
      "20       0.010127\n",
      "21       0.009964\n",
      "22       0.010053\n",
      "23       0.010082\n",
      "24       0.010036\n",
      "25       0.010019\n",
      "26       0.010049\n",
      "27       0.009823\n",
      "28       0.009988\n",
      "29       0.010106\n",
      "           ...   \n",
      "99970    0.010047\n",
      "99971    0.010049\n",
      "99972    0.009904\n",
      "99973    0.010061\n",
      "99974    0.010165\n",
      "99975    0.010104\n",
      "99976    0.010070\n",
      "99977    0.010068\n",
      "99978    0.010045\n",
      "99979    0.009899\n",
      "99980    0.009975\n",
      "99981    0.010233\n",
      "99982    0.010061\n",
      "99983    0.009928\n",
      "99984    0.009963\n",
      "99985    0.009899\n",
      "99986    0.010061\n",
      "99987    0.009844\n",
      "99988    0.010070\n",
      "99989    0.009922\n",
      "99990    0.010034\n",
      "99991    0.009931\n",
      "99992    0.009971\n",
      "99993    0.010073\n",
      "99994    0.010114\n",
      "99995    0.010192\n",
      "99996    0.010034\n",
      "99997    0.009984\n",
      "99998    0.010021\n",
      "99999    0.010107\n",
      "dtype: float64\n"
     ]
    }
   ],
   "source": [
    "print(k)"
   ]
  },
  {
   "cell_type": "code",
   "execution_count": 4,
   "metadata": {
    "collapsed": false
   },
   "outputs": [
    {
     "data": {
      "text/plain": [
       "count    100000.000000\n",
       "mean          0.010001\n",
       "std           0.000100\n",
       "min           0.009527\n",
       "25%           0.009933\n",
       "50%           0.010000\n",
       "75%           0.010068\n",
       "max           0.010419\n",
       "dtype: float64"
      ]
     },
     "execution_count": 4,
     "metadata": {},
     "output_type": "execute_result"
    }
   ],
   "source": [
    "k.describe()"
   ]
  },
  {
   "cell_type": "code",
   "execution_count": 5,
   "metadata": {
    "collapsed": false
   },
   "outputs": [
    {
     "data": {
      "text/plain": [
       "(array([  2.00000000e+00,   1.00000000e+00,   2.20000000e+01,\n",
       "          1.04000000e+02,   4.05000000e+02,   1.22500000e+03,\n",
       "          3.31300000e+03,   6.82300000e+03,   1.15310000e+04,\n",
       "          1.57660000e+04,   1.76790000e+04,   1.61530000e+04,\n",
       "          1.23740000e+04,   7.81600000e+03,   4.01800000e+03,\n",
       "          1.78400000e+03,   7.09000000e+02,   1.91000000e+02,\n",
       "          6.90000000e+01,   1.50000000e+01]),\n",
       " array([ 0.00952699,  0.0095716 ,  0.00961621,  0.00966082,  0.00970544,\n",
       "         0.00975005,  0.00979466,  0.00983927,  0.00988388,  0.00992849,\n",
       "         0.0099731 ,  0.01001771,  0.01006232,  0.01010693,  0.01015154,\n",
       "         0.01019615,  0.01024076,  0.01028537,  0.01032998,  0.01037459,\n",
       "         0.0104192 ]),\n",
       " <a list of 20 Patch objects>)"
      ]
     },
     "execution_count": 5,
     "metadata": {},
     "output_type": "execute_result"
    }
   ],
   "source": [
    "plt.hist(k, bins = 20)"
   ]
  },
  {
   "cell_type": "markdown",
   "metadata": {},
   "source": [
    "2.Construindo distribuição de média amostral:"
   ]
  },
  {
   "cell_type": "code",
   "execution_count": 6,
   "metadata": {
    "collapsed": false
   },
   "outputs": [
    {
     "name": "stdout",
     "output_type": "stream",
     "text": [
      "[0.010065621798042466, 0.010049866993157054, 0.010067327330641699, 0.010019440232035826, 0.0099437661742011012, 0.010182467205954115, 0.010028657101749525, 0.0099437776520071471, 0.010035019317650246, 0.010042733861357527]\n"
     ]
    }
   ],
   "source": [
    "media = []\n",
    "for i in range(10):\n",
    "    media.append(np.mean(np.random.choice(k,size = 2)))\n",
    "    \n",
    "print(media)\n",
    "    \n"
   ]
  },
  {
   "cell_type": "code",
   "execution_count": null,
   "metadata": {
    "collapsed": true
   },
   "outputs": [],
   "source": []
  }
 ],
 "metadata": {
  "kernelspec": {
   "display_name": "Python 3",
   "language": "python",
   "name": "python3"
  },
  "language_info": {
   "codemirror_mode": {
    "name": "ipython",
    "version": 3
   },
   "file_extension": ".py",
   "mimetype": "text/x-python",
   "name": "python",
   "nbconvert_exporter": "python",
   "pygments_lexer": "ipython3",
   "version": "3.5.1"
  }
 },
 "nbformat": 4,
 "nbformat_minor": 0
}
