{
 "cells": [
  {
   "cell_type": "markdown",
   "metadata": {},
   "source": [
    "# Primeira Parte\n",
    "\n"
   ]
  },
  {
   "cell_type": "markdown",
   "metadata": {},
   "source": [
    "Construindo valores da população: "
   ]
  },
  {
   "cell_type": "code",
   "execution_count": 1,
   "metadata": {
    "collapsed": false
   },
   "outputs": [],
   "source": [
    "import numpy as np\n",
    "import pandas as pd\n",
    "from scipy.stats import alpha\n",
    "import matplotlib.pyplot as plt\n",
    "from scipy import stats\n",
    "%matplotlib inline"
   ]
  },
  {
   "cell_type": "code",
   "execution_count": 2,
   "metadata": {
    "collapsed": false
   },
   "outputs": [],
   "source": [
    "dados = stats.alpha.rvs( a=100 ,size=100000)\n",
    "mu = np.mean(dados)\n",
    "sigma = np.var(dados)**0.5\n",
    "k = pd.Series(dados)"
   ]
  },
  {
   "cell_type": "code",
   "execution_count": 3,
   "metadata": {
    "collapsed": false
   },
   "outputs": [
    {
     "name": "stdout",
     "output_type": "stream",
     "text": [
      "0        0.009918\n",
      "1        0.009954\n",
      "2        0.009941\n",
      "3        0.010055\n",
      "4        0.010032\n",
      "5        0.010114\n",
      "6        0.009891\n",
      "7        0.010003\n",
      "8        0.009969\n",
      "9        0.009867\n",
      "10       0.009971\n",
      "11       0.010024\n",
      "12       0.009894\n",
      "13       0.010091\n",
      "14       0.010061\n",
      "15       0.010055\n",
      "16       0.010065\n",
      "17       0.009913\n",
      "18       0.009946\n",
      "19       0.010168\n",
      "20       0.009990\n",
      "21       0.009883\n",
      "22       0.009927\n",
      "23       0.010008\n",
      "24       0.009936\n",
      "25       0.009971\n",
      "26       0.009901\n",
      "27       0.009925\n",
      "28       0.010188\n",
      "29       0.010170\n",
      "           ...   \n",
      "99970    0.010245\n",
      "99971    0.010073\n",
      "99972    0.009976\n",
      "99973    0.010085\n",
      "99974    0.009993\n",
      "99975    0.009741\n",
      "99976    0.009886\n",
      "99977    0.009872\n",
      "99978    0.009794\n",
      "99979    0.009910\n",
      "99980    0.009874\n",
      "99981    0.010140\n",
      "99982    0.010219\n",
      "99983    0.009942\n",
      "99984    0.009920\n",
      "99985    0.010037\n",
      "99986    0.009903\n",
      "99987    0.010130\n",
      "99988    0.009870\n",
      "99989    0.010117\n",
      "99990    0.010013\n",
      "99991    0.009861\n",
      "99992    0.009970\n",
      "99993    0.010002\n",
      "99994    0.010153\n",
      "99995    0.010174\n",
      "99996    0.010017\n",
      "99997    0.009903\n",
      "99998    0.010171\n",
      "99999    0.009925\n",
      "dtype: float64\n"
     ]
    }
   ],
   "source": [
    "print(k)"
   ]
  },
  {
   "cell_type": "code",
   "execution_count": 4,
   "metadata": {
    "collapsed": false
   },
   "outputs": [
    {
     "data": {
      "text/plain": [
       "count    100000.000000\n",
       "mean          0.010001\n",
       "std           0.000100\n",
       "min           0.009573\n",
       "25%           0.009933\n",
       "50%           0.010000\n",
       "75%           0.010068\n",
       "max           0.010449\n",
       "dtype: float64"
      ]
     },
     "execution_count": 4,
     "metadata": {},
     "output_type": "execute_result"
    }
   ],
   "source": [
    "k.describe()"
   ]
  },
  {
   "cell_type": "code",
   "execution_count": 5,
   "metadata": {
    "collapsed": false
   },
   "outputs": [
    {
     "data": {
      "text/plain": [
       "(array([  2.00000000e+00,   1.50000000e+01,   8.90000000e+01,\n",
       "          3.86000000e+02,   1.16700000e+03,   3.10000000e+03,\n",
       "          6.22300000e+03,   1.09620000e+04,   1.50130000e+04,\n",
       "          1.71640000e+04,   1.64720000e+04,   1.29090000e+04,\n",
       "          8.34100000e+03,   4.77300000e+03,   2.19500000e+03,\n",
       "          8.24000000e+02,   2.58000000e+02,   7.90000000e+01,\n",
       "          2.40000000e+01,   4.00000000e+00]),\n",
       " array([ 0.00957252,  0.00961634,  0.00966016,  0.00970397,  0.00974779,\n",
       "         0.00979161,  0.00983542,  0.00987924,  0.00992306,  0.00996687,\n",
       "         0.01001069,  0.01005451,  0.01009832,  0.01014214,  0.01018596,\n",
       "         0.01022977,  0.01027359,  0.01031741,  0.01036122,  0.01040504,\n",
       "         0.01044886]),\n",
       " <a list of 20 Patch objects>)"
      ]
     },
     "execution_count": 5,
     "metadata": {},
     "output_type": "execute_result"
    },
    {
     "data": {
      "image/png": "[encoded data removed]",
      "text/plain": [
       "<matplotlib.figure.Figure at 0x191641d4390>"
      ]
     },
     "metadata": {},
     "output_type": "display_data"
    }
   ],
   "source": [
    "plt.hist(k, bins = 20)"
   ]
  },
  {
   "cell_type": "markdown",
   "metadata": {},
   "source": [
    "2.Construindo distribuição de média amostral:"
   ]
  },
  {
   "cell_type": "code",
   "execution_count": 6,
   "metadata": {
    "collapsed": false
   },
   "outputs": [
    {
     "name": "stdout",
     "output_type": "stream",
     "text": [
      "[0.010004822693044351, 0.0099761305555966934, 0.0099509623571401168, 0.0099867809139728494, 0.0099962738224182793, 0.010040914628926338, 0.010184303356953427, 0.010033654735736319, 0.01001574697515226, 0.0099280954739726611]\n"
     ]
    }
   ],
   "source": [
    "media = []\n",
    "for i in range(10000):\n",
    "    media.append(np.mean(np.random.choice(k,size = 2)))\n",
    "    \n",
    "print(media)\n",
    "    \n"
   ]
  },
  {
   "cell_type": "code",
   "execution_count": null,
   "metadata": {
    "collapsed": true
   },
   "outputs": [],
   "source": []
  }
 ],
 "metadata": {
  "anaconda-cloud": {},
  "kernelspec": {
   "display_name": "Python [Root]",
   "language": "python",
   "name": "Python [Root]"
  },
  "language_info": {
   "codemirror_mode": {
    "name": "ipython",
    "version": 3
   },
   "file_extension": ".py",
   "mimetype": "text/x-python",
   "name": "python",
   "nbconvert_exporter": "python",
   "pygments_lexer": "ipython3",
   "version": "3.5.2"
  }
 },
 "nbformat": 4,
 "nbformat_minor": 0
}
