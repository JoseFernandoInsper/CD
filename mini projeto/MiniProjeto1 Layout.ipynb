{
 "cells": [
  {
   "cell_type": "markdown",
   "metadata": {},
   "source": [
    "___\n",
    "# MINIPROJETO 1"
   ]
  },
  {
   "cell_type": "markdown",
   "metadata": {},
   "source": [
    "## <font color='red'>JOSE FERNANDO DE MELO CRUZ</font>\n",
    "___"
   ]
  },
  {
   "cell_type": "markdown",
   "metadata": {},
   "source": [
    "## <font color='blue'>NOME DA VARIÁVEL QUANTITATIVA ESCOLHIDA</font>"
   ]
  },
  {
   "cell_type": "markdown",
   "metadata": {},
   "source": [
    "___\n",
    "### Itens 1 a 3 - Resolução:"
   ]
  },
  {
   "cell_type": "code",
   "execution_count": 44,
   "metadata": {
    "collapsed": false
   },
   "outputs": [
    {
     "name": "stdout",
     "output_type": "stream",
     "text": [
      "Esperamos trabalhar no diretório\n",
      "C:\\Users\\Jose Fernando\\Documents\\GitHub\\CD\\mini projeto\n"
     ]
    }
   ],
   "source": [
    "%matplotlib inline\n",
    "import pandas as pd\n",
    "import matplotlib.pyplot as plt\n",
    "import numpy as np\n",
    "import os\n",
    "from scipy import stats\n",
    "from scipy.stats import exponpow\n",
    "from scipy.stats import beta\n",
    "from numpy import linspace\n",
    "\n",
    "print('Esperamos trabalhar no diretório')\n",
    "print(os.getcwd())"
   ]
  },
  {
   "cell_type": "code",
   "execution_count": 23,
   "metadata": {
    "collapsed": false
   },
   "outputs": [],
   "source": [
    "dados = pd.read_excel(\"Pasta.xlsx\", sep=\",\")"
   ]
  },
  {
   "cell_type": "code",
   "execution_count": 24,
   "metadata": {
    "collapsed": false
   },
   "outputs": [
    {
     "data": {
      "text/html": [
       "<div>\n",
       "<table border=\"1\" class=\"dataframe\">\n",
       "  <thead>\n",
       "    <tr style=\"text-align: right;\">\n",
       "      <th></th>\n",
       "      <th>ano</th>\n",
       "      <th>nitrogenio</th>\n",
       "      <th>fosfato</th>\n",
       "      <th>potassio</th>\n",
       "    </tr>\n",
       "  </thead>\n",
       "  <tbody>\n",
       "    <tr>\n",
       "      <th>0</th>\n",
       "      <td>1960</td>\n",
       "      <td>2738.0</td>\n",
       "      <td>2572.4</td>\n",
       "      <td>2153.3</td>\n",
       "    </tr>\n",
       "    <tr>\n",
       "      <th>1</th>\n",
       "      <td>1961</td>\n",
       "      <td>3030.8</td>\n",
       "      <td>2645.1</td>\n",
       "      <td>2168.5</td>\n",
       "    </tr>\n",
       "    <tr>\n",
       "      <th>2</th>\n",
       "      <td>1962</td>\n",
       "      <td>3370.0</td>\n",
       "      <td>2807.0</td>\n",
       "      <td>2270.5</td>\n",
       "    </tr>\n",
       "    <tr>\n",
       "      <th>3</th>\n",
       "      <td>1963</td>\n",
       "      <td>3929.1</td>\n",
       "      <td>3072.9</td>\n",
       "      <td>2503.4</td>\n",
       "    </tr>\n",
       "    <tr>\n",
       "      <th>4</th>\n",
       "      <td>1964</td>\n",
       "      <td>4352.8</td>\n",
       "      <td>3377.8</td>\n",
       "      <td>2729.7</td>\n",
       "    </tr>\n",
       "    <tr>\n",
       "      <th>5</th>\n",
       "      <td>1965</td>\n",
       "      <td>4638.5</td>\n",
       "      <td>3512.2</td>\n",
       "      <td>2834.5</td>\n",
       "    </tr>\n",
       "    <tr>\n",
       "      <th>6</th>\n",
       "      <td>1966</td>\n",
       "      <td>5326.3</td>\n",
       "      <td>3897.1</td>\n",
       "      <td>3221.2</td>\n",
       "    </tr>\n",
       "    <tr>\n",
       "      <th>7</th>\n",
       "      <td>1967</td>\n",
       "      <td>6027.1</td>\n",
       "      <td>4304.7</td>\n",
       "      <td>3641.8</td>\n",
       "    </tr>\n",
       "    <tr>\n",
       "      <th>8</th>\n",
       "      <td>1968</td>\n",
       "      <td>6787.6</td>\n",
       "      <td>4453.3</td>\n",
       "      <td>3792.6</td>\n",
       "    </tr>\n",
       "    <tr>\n",
       "      <th>9</th>\n",
       "      <td>1969</td>\n",
       "      <td>6957.6</td>\n",
       "      <td>4665.6</td>\n",
       "      <td>3891.6</td>\n",
       "    </tr>\n",
       "    <tr>\n",
       "      <th>10</th>\n",
       "      <td>1970</td>\n",
       "      <td>7459.0</td>\n",
       "      <td>4573.8</td>\n",
       "      <td>4035.5</td>\n",
       "    </tr>\n",
       "    <tr>\n",
       "      <th>11</th>\n",
       "      <td>1971</td>\n",
       "      <td>8133.6</td>\n",
       "      <td>4803.4</td>\n",
       "      <td>4231.4</td>\n",
       "    </tr>\n",
       "    <tr>\n",
       "      <th>12</th>\n",
       "      <td>1972</td>\n",
       "      <td>8022.3</td>\n",
       "      <td>4863.7</td>\n",
       "      <td>4326.8</td>\n",
       "    </tr>\n",
       "    <tr>\n",
       "      <th>13</th>\n",
       "      <td>1973</td>\n",
       "      <td>8295.1</td>\n",
       "      <td>5085.2</td>\n",
       "      <td>4648.7</td>\n",
       "    </tr>\n",
       "    <tr>\n",
       "      <th>14</th>\n",
       "      <td>1974</td>\n",
       "      <td>9157.2</td>\n",
       "      <td>5098.6</td>\n",
       "      <td>5082.6</td>\n",
       "    </tr>\n",
       "    <tr>\n",
       "      <th>15</th>\n",
       "      <td>1975</td>\n",
       "      <td>8600.8</td>\n",
       "      <td>4506.8</td>\n",
       "      <td>4453.2</td>\n",
       "    </tr>\n",
       "    <tr>\n",
       "      <th>16</th>\n",
       "      <td>1976</td>\n",
       "      <td>10411.6</td>\n",
       "      <td>5227.6</td>\n",
       "      <td>5209.7</td>\n",
       "    </tr>\n",
       "    <tr>\n",
       "      <th>17</th>\n",
       "      <td>1977</td>\n",
       "      <td>10647.4</td>\n",
       "      <td>5629.7</td>\n",
       "      <td>5833.8</td>\n",
       "    </tr>\n",
       "    <tr>\n",
       "      <th>18</th>\n",
       "      <td>1978</td>\n",
       "      <td>9964.6</td>\n",
       "      <td>5096.1</td>\n",
       "      <td>5526.1</td>\n",
       "    </tr>\n",
       "    <tr>\n",
       "      <th>19</th>\n",
       "      <td>1979</td>\n",
       "      <td>10714.7</td>\n",
       "      <td>5605.8</td>\n",
       "      <td>6244.5</td>\n",
       "    </tr>\n",
       "    <tr>\n",
       "      <th>20</th>\n",
       "      <td>1980</td>\n",
       "      <td>11406.7</td>\n",
       "      <td>5431.5</td>\n",
       "      <td>6245.1</td>\n",
       "    </tr>\n",
       "    <tr>\n",
       "      <th>21</th>\n",
       "      <td>1981</td>\n",
       "      <td>11923.8</td>\n",
       "      <td>5434.4</td>\n",
       "      <td>6319.5</td>\n",
       "    </tr>\n",
       "    <tr>\n",
       "      <th>22</th>\n",
       "      <td>1982</td>\n",
       "      <td>10983.1</td>\n",
       "      <td>4813.9</td>\n",
       "      <td>5630.9</td>\n",
       "    </tr>\n",
       "    <tr>\n",
       "      <th>23</th>\n",
       "      <td>1983</td>\n",
       "      <td>9127.0</td>\n",
       "      <td>4137.5</td>\n",
       "      <td>4831.0</td>\n",
       "    </tr>\n",
       "    <tr>\n",
       "      <th>24</th>\n",
       "      <td>1984</td>\n",
       "      <td>11092.2</td>\n",
       "      <td>4901.1</td>\n",
       "      <td>5796.8</td>\n",
       "    </tr>\n",
       "    <tr>\n",
       "      <th>25</th>\n",
       "      <td>1985</td>\n",
       "      <td>11492.6</td>\n",
       "      <td>4657.6</td>\n",
       "      <td>5552.5</td>\n",
       "    </tr>\n",
       "    <tr>\n",
       "      <th>26</th>\n",
       "      <td>1986</td>\n",
       "      <td>10424.4</td>\n",
       "      <td>4177.9</td>\n",
       "      <td>5052.6</td>\n",
       "    </tr>\n",
       "    <tr>\n",
       "      <th>27</th>\n",
       "      <td>1987</td>\n",
       "      <td>10209.5</td>\n",
       "      <td>4008.3</td>\n",
       "      <td>4836.5</td>\n",
       "    </tr>\n",
       "    <tr>\n",
       "      <th>28</th>\n",
       "      <td>1988</td>\n",
       "      <td>10511.6</td>\n",
       "      <td>4128.5</td>\n",
       "      <td>4972.7</td>\n",
       "    </tr>\n",
       "    <tr>\n",
       "      <th>29</th>\n",
       "      <td>1989</td>\n",
       "      <td>10592.6</td>\n",
       "      <td>4116.9</td>\n",
       "      <td>4838.0</td>\n",
       "    </tr>\n",
       "    <tr>\n",
       "      <th>30</th>\n",
       "      <td>1990</td>\n",
       "      <td>11076.0</td>\n",
       "      <td>4344.7</td>\n",
       "      <td>5202.8</td>\n",
       "    </tr>\n",
       "    <tr>\n",
       "      <th>31</th>\n",
       "      <td>1991</td>\n",
       "      <td>11286.9</td>\n",
       "      <td>4200.6</td>\n",
       "      <td>5001.2</td>\n",
       "    </tr>\n",
       "    <tr>\n",
       "      <th>32</th>\n",
       "      <td>1992</td>\n",
       "      <td>11446.4</td>\n",
       "      <td>4217.9</td>\n",
       "      <td>5041.7</td>\n",
       "    </tr>\n",
       "    <tr>\n",
       "      <th>33</th>\n",
       "      <td>1993</td>\n",
       "      <td>11392.5</td>\n",
       "      <td>4435.6</td>\n",
       "      <td>5140.7</td>\n",
       "    </tr>\n",
       "    <tr>\n",
       "      <th>34</th>\n",
       "      <td>1994</td>\n",
       "      <td>12642.8</td>\n",
       "      <td>4521.1</td>\n",
       "      <td>5268.1</td>\n",
       "    </tr>\n",
       "    <tr>\n",
       "      <th>35</th>\n",
       "      <td>1995</td>\n",
       "      <td>11718.5</td>\n",
       "      <td>4424.8</td>\n",
       "      <td>5128.4</td>\n",
       "    </tr>\n",
       "    <tr>\n",
       "      <th>36</th>\n",
       "      <td>1996</td>\n",
       "      <td>12303.4</td>\n",
       "      <td>4527.3</td>\n",
       "      <td>5257.5</td>\n",
       "    </tr>\n",
       "    <tr>\n",
       "      <th>37</th>\n",
       "      <td>1997</td>\n",
       "      <td>12352.1</td>\n",
       "      <td>4611.8</td>\n",
       "      <td>5424.5</td>\n",
       "    </tr>\n",
       "    <tr>\n",
       "      <th>38</th>\n",
       "      <td>1998</td>\n",
       "      <td>12312.6</td>\n",
       "      <td>4615.2</td>\n",
       "      <td>5300.7</td>\n",
       "    </tr>\n",
       "    <tr>\n",
       "      <th>39</th>\n",
       "      <td>1999</td>\n",
       "      <td>12451.9</td>\n",
       "      <td>4254.2</td>\n",
       "      <td>4953.5</td>\n",
       "    </tr>\n",
       "    <tr>\n",
       "      <th>40</th>\n",
       "      <td>2000</td>\n",
       "      <td>12333.8</td>\n",
       "      <td>4313.8</td>\n",
       "      <td>4971.6</td>\n",
       "    </tr>\n",
       "    <tr>\n",
       "      <th>41</th>\n",
       "      <td>2001</td>\n",
       "      <td>11534.7</td>\n",
       "      <td>4257.2</td>\n",
       "      <td>4926.1</td>\n",
       "    </tr>\n",
       "    <tr>\n",
       "      <th>42</th>\n",
       "      <td>2002</td>\n",
       "      <td>12009.3</td>\n",
       "      <td>4630.0</td>\n",
       "      <td>4981.6</td>\n",
       "    </tr>\n",
       "    <tr>\n",
       "      <th>43</th>\n",
       "      <td>2003</td>\n",
       "      <td>12092.1</td>\n",
       "      <td>4290.5</td>\n",
       "      <td>4950.4</td>\n",
       "    </tr>\n",
       "    <tr>\n",
       "      <th>44</th>\n",
       "      <td>2004</td>\n",
       "      <td>13027.8</td>\n",
       "      <td>4824.5</td>\n",
       "      <td>5520.1</td>\n",
       "    </tr>\n",
       "    <tr>\n",
       "      <th>45</th>\n",
       "      <td>2005</td>\n",
       "      <td>12336.5</td>\n",
       "      <td>4638.0</td>\n",
       "      <td>5173.4</td>\n",
       "    </tr>\n",
       "    <tr>\n",
       "      <th>46</th>\n",
       "      <td>2006</td>\n",
       "      <td>12043.8</td>\n",
       "      <td>4478.6</td>\n",
       "      <td>4722.9</td>\n",
       "    </tr>\n",
       "    <tr>\n",
       "      <th>47</th>\n",
       "      <td>2007</td>\n",
       "      <td>13194.4</td>\n",
       "      <td>4571.7</td>\n",
       "      <td>5133.3</td>\n",
       "    </tr>\n",
       "    <tr>\n",
       "      <th>48</th>\n",
       "      <td>2008</td>\n",
       "      <td>12561.3</td>\n",
       "      <td>4246.9</td>\n",
       "      <td>4659.7</td>\n",
       "    </tr>\n",
       "    <tr>\n",
       "      <th>49</th>\n",
       "      <td>2009</td>\n",
       "      <td>11461.4</td>\n",
       "      <td>3137.5</td>\n",
       "      <td>3089.8</td>\n",
       "    </tr>\n",
       "    <tr>\n",
       "      <th>50</th>\n",
       "      <td>2010</td>\n",
       "      <td>12285.3</td>\n",
       "      <td>4099.3</td>\n",
       "      <td>4458.1</td>\n",
       "    </tr>\n",
       "    <tr>\n",
       "      <th>51</th>\n",
       "      <td>2011</td>\n",
       "      <td>12840.4</td>\n",
       "      <td>4320.7</td>\n",
       "      <td>4591.4</td>\n",
       "    </tr>\n",
       "  </tbody>\n",
       "</table>\n",
       "</div>"
      ],
      "text/plain": [
       "     ano  nitrogenio  fosfato  potassio\n",
       "0   1960      2738.0   2572.4    2153.3\n",
       "1   1961      3030.8   2645.1    2168.5\n",
       "2   1962      3370.0   2807.0    2270.5\n",
       "3   1963      3929.1   3072.9    2503.4\n",
       "4   1964      4352.8   3377.8    2729.7\n",
       "5   1965      4638.5   3512.2    2834.5\n",
       "6   1966      5326.3   3897.1    3221.2\n",
       "7   1967      6027.1   4304.7    3641.8\n",
       "8   1968      6787.6   4453.3    3792.6\n",
       "9   1969      6957.6   4665.6    3891.6\n",
       "10  1970      7459.0   4573.8    4035.5\n",
       "11  1971      8133.6   4803.4    4231.4\n",
       "12  1972      8022.3   4863.7    4326.8\n",
       "13  1973      8295.1   5085.2    4648.7\n",
       "14  1974      9157.2   5098.6    5082.6\n",
       "15  1975      8600.8   4506.8    4453.2\n",
       "16  1976     10411.6   5227.6    5209.7\n",
       "17  1977     10647.4   5629.7    5833.8\n",
       "18  1978      9964.6   5096.1    5526.1\n",
       "19  1979     10714.7   5605.8    6244.5\n",
       "20  1980     11406.7   5431.5    6245.1\n",
       "21  1981     11923.8   5434.4    6319.5\n",
       "22  1982     10983.1   4813.9    5630.9\n",
       "23  1983      9127.0   4137.5    4831.0\n",
       "24  1984     11092.2   4901.1    5796.8\n",
       "25  1985     11492.6   4657.6    5552.5\n",
       "26  1986     10424.4   4177.9    5052.6\n",
       "27  1987     10209.5   4008.3    4836.5\n",
       "28  1988     10511.6   4128.5    4972.7\n",
       "29  1989     10592.6   4116.9    4838.0\n",
       "30  1990     11076.0   4344.7    5202.8\n",
       "31  1991     11286.9   4200.6    5001.2\n",
       "32  1992     11446.4   4217.9    5041.7\n",
       "33  1993     11392.5   4435.6    5140.7\n",
       "34  1994     12642.8   4521.1    5268.1\n",
       "35  1995     11718.5   4424.8    5128.4\n",
       "36  1996     12303.4   4527.3    5257.5\n",
       "37  1997     12352.1   4611.8    5424.5\n",
       "38  1998     12312.6   4615.2    5300.7\n",
       "39  1999     12451.9   4254.2    4953.5\n",
       "40  2000     12333.8   4313.8    4971.6\n",
       "41  2001     11534.7   4257.2    4926.1\n",
       "42  2002     12009.3   4630.0    4981.6\n",
       "43  2003     12092.1   4290.5    4950.4\n",
       "44  2004     13027.8   4824.5    5520.1\n",
       "45  2005     12336.5   4638.0    5173.4\n",
       "46  2006     12043.8   4478.6    4722.9\n",
       "47  2007     13194.4   4571.7    5133.3\n",
       "48  2008     12561.3   4246.9    4659.7\n",
       "49  2009     11461.4   3137.5    3089.8\n",
       "50  2010     12285.3   4099.3    4458.1\n",
       "51  2011     12840.4   4320.7    4591.4"
      ]
     },
     "execution_count": 24,
     "metadata": {},
     "output_type": "execute_result"
    }
   ],
   "source": [
    "dados"
   ]
  },
  {
   "cell_type": "code",
   "execution_count": 155,
   "metadata": {
    "collapsed": false
   },
   "outputs": [],
   "source": [
    "tempos = pd.Series(data=sorted(dados.nitrogenio))"
   ]
  },
  {
   "cell_type": "code",
   "execution_count": 25,
   "metadata": {
    "collapsed": false
   },
   "outputs": [
    {
     "data": {
      "text/plain": [
       "count       52.000000\n",
       "mean      9865.990385\n",
       "std       2928.591468\n",
       "min       2738.000000\n",
       "25%       8254.725000\n",
       "50%      11029.550000\n",
       "75%      12055.875000\n",
       "max      13194.400000\n",
       "Name: nitrogenio, dtype: float64"
      ]
     },
     "execution_count": 25,
     "metadata": {},
     "output_type": "execute_result"
    }
   ],
   "source": [
    "dados.nitrogenio.describe()"
   ]
  },
  {
   "cell_type": "code",
   "execution_count": 40,
   "metadata": {
    "collapsed": false
   },
   "outputs": [
    {
     "data": {
      "text/plain": [
       "<matplotlib.axes._subplots.AxesSubplot at 0x13464753400>"
      ]
     },
     "execution_count": 40,
     "metadata": {},
     "output_type": "execute_result"
    },
    {
     "data": {
      "image/png": "[encoded data removed]",
      "text/plain": [
       "<matplotlib.figure.Figure at 0x13464756c50>"
      ]
     },
     "metadata": {},
     "output_type": "display_data"
    }
   ],
   "source": [
    "faixa = np.arange(2738,13194,700)\n",
    "dados.nitrogenio.plot(kind='hist', bins=faixa, normed=0, legend=False)"
   ]
  },
  {
   "cell_type": "markdown",
   "metadata": {
    "collapsed": true
   },
   "source": [
    "___\n",
    "### Itens 4 a 6 - Resolução:"
   ]
  },
  {
   "cell_type": "markdown",
   "metadata": {
    "collapsed": true
   },
   "source": [
    "o histograma descrito possui simetria a esquerda \n",
    "\n",
    "distribuição exponpow e beta"
   ]
  },
  {
   "cell_type": "code",
   "execution_count": 115,
   "metadata": {
    "collapsed": false
   },
   "outputs": [
    {
     "data": {
      "text/plain": [
       "<matplotlib.legend.Legend at 0x1346cd2f780>"
      ]
     },
     "execution_count": 115,
     "metadata": {},
     "output_type": "execute_result"
    },
    {
     "data": {
      "image/png": "[encoded data removed]",
      "text/plain": [
       "<matplotlib.figure.Figure at 0x1346cca0080>"
      ]
     },
     "metadata": {},
     "output_type": "display_data"
    }
   ],
   "source": [
    "media = dados.nitrogenio.mean()\n",
    "a = 0.92\n",
    "k_gama = 2.3\n",
    "b = 8\n",
    "teta_gama = media/k_gama\n",
    "x = linspace(2000,14000,10000)\n",
    "\n",
    "dados.nitrogenio.plot(kind='hist', bins=faixa, normed=True, legend=False)\n",
    "expo = stats.exponpow.pdf(x, b, scale=12000, loc=0)\n",
    "beta = stats.beta.pdf(x, k_gama, a, scale=12000, loc=1)\n",
    "\n",
    "plt.plot(x,expo, '-', color='green', label=\"expo\")\n",
    "plt.plot(x,beta, '-', color='yellow', label=\"beta\")\n",
    "\n",
    "plt.legend(bbox_to_anchor=(0.4,1))"
   ]
  },
  {
   "cell_type": "markdown",
   "metadata": {},
   "source": [
    "# .fit"
   ]
  },
  {
   "cell_type": "code",
   "execution_count": 148,
   "metadata": {
    "collapsed": false
   },
   "outputs": [
    {
     "name": "stdout",
     "output_type": "stream",
     "text": [
      "(1.0943141616649659, 0.36971002139568881, 1721.5430069787658, 11472.856993021236)\n",
      "\n",
      "(1.0, 1692.3599999999999, 1.0)\n"
     ]
    }
   ],
   "source": [
    "print(stats.beta.fit(dados.nitrogenio))\n",
    "print()\n",
    "print(stats.exponpow.fit(dados.nitrogenio))"
   ]
  },
  {
   "cell_type": "code",
   "execution_count": 153,
   "metadata": {
    "collapsed": false
   },
   "outputs": [
    {
     "data": {
      "text/plain": [
       "<matplotlib.legend.Legend at 0x1346f851c88>"
      ]
     },
     "execution_count": 153,
     "metadata": {},
     "output_type": "execute_result"
    },
    {
     "data": {
      "image/png": "[encoded data removed]",
      "text/plain": [
       "<matplotlib.figure.Figure at 0x1346f7e3f98>"
      ]
     },
     "metadata": {},
     "output_type": "display_data"
    }
   ],
   "source": [
    "media = dados.nitrogenio.mean()\n",
    "a = 0.36971002139568881\n",
    "k_gama =1.0943141616649659\n",
    "b = 1\n",
    "teta_gama = media/k_gama\n",
    "x = linspace(2000,14000,10000)\n",
    "\n",
    "dados.nitrogenio.plot(kind='hist', bins=faixa, normed=True, legend=False)\n",
    "beta = stats.beta.pdf(x, k_gama, a, scale=11472.856993021236, loc=1721.5430069787658)\n",
    "expo = stats.exponpow.pdf(x, b, scale=1, loc=0)\n",
    "\n",
    "plt.plot(x,expo, '-', color='green', label=\"expo\")\n",
    "plt.plot(x,beta, '-', color='yellow', label=\"beta\")\n",
    "\n",
    "plt.legend(bbox_to_anchor=(0.4,1))"
   ]
  },
  {
   "cell_type": "markdown",
   "metadata": {},
   "source": [
    "# q-q plot\n",
    "usando dados estimados"
   ]
  },
  {
   "cell_type": "code",
   "execution_count": 166,
   "metadata": {
    "collapsed": false
   },
   "outputs": [
    {
     "data": {
      "text/plain": [
       "<matplotlib.legend.Legend at 0x1346cc03080>"
      ]
     },
     "execution_count": 166,
     "metadata": {},
     "output_type": "execute_result"
    },
    {
     "data": {
      "image/png": "[encoded data removed]",
      "text/plain": [
       "<matplotlib.figure.Figure at 0x1346fab5fd0>"
      ]
     },
     "metadata": {},
     "output_type": "display_data"
    }
   ],
   "source": [
    "media = dados.nitrogenio.mean()\n",
    "var = dados.nitrogenio.std()\n",
    "a = 0.92\n",
    "k_gama = 2.3\n",
    "b = 8\n",
    "teta_gama = media/k_gama\n",
    "x = linspace(2000,14000,10000)\n",
    "\n",
    "fra = [] # frequencia relativa acumulada\n",
    "for i in range(len(tempos)):\n",
    "    acc = (i - 0.5) / len(tempos)\n",
    "    if acc < 0:\n",
    "        acc = 0\n",
    "    fra.append(acc)\n",
    "    \n",
    "fra = pd.Series(data=fra)\n",
    "\n",
    "q_exp = stats.exponpow.ppf(fra, b, scale=12000, loc=0) # quantis teóricos da exponencial\n",
    "q_gamma = stats.beta.ppf(fra, k_gama, a, scale=12000, loc=0)\n",
    "\n",
    "exp_plot, = plt.plot(tempos, q_exp, 'o', color=\"red\", label=\"Exponencial\")\n",
    "gamma_plot, = plt.plot(tempos, q_gamma, 'o', color=\"green\", label = \"beta\")\n",
    "\n",
    "plt.legend(handles=[exp_plot, gamma_plot])\n",
    "plt.plot((min(tempos), max(tempos)), (min(tempos), max(tempos)), '-')\n",
    "\n",
    "\n",
    "for i in range(len(tempos)):\n",
    "    plt.plot((tempos[i], tempos[i]), (q_exp[i], tempos[i]), '-', color='red', alpha=0.3  )\n",
    "    plt.plot((tempos[i], tempos[i]), (q_gamma[i], tempos[i]), '-', color='green', alpha=0.3  )\n",
    "\n",
    "plt.legend(bbox_to_anchor=(0.4,1))"
   ]
  },
  {
   "cell_type": "code",
   "execution_count": null,
   "metadata": {
    "collapsed": false
   },
   "outputs": [],
   "source": []
  },
  {
   "cell_type": "markdown",
   "metadata": {
    "collapsed": true
   },
   "source": [
    "___\n",
    "### Itens 7 a 9 - Resolução:"
   ]
  },
  {
   "cell_type": "code",
   "execution_count": null,
   "metadata": {
    "collapsed": false
   },
   "outputs": [],
   "source": []
  },
  {
   "cell_type": "code",
   "execution_count": 176,
   "metadata": {
    "collapsed": false
   },
   "outputs": [
    {
     "data": {
      "image/png": "[encoded data removed]",
      "text/plain": [
       "<matplotlib.figure.Figure at 0x13471686320>"
      ]
     },
     "metadata": {},
     "output_type": "display_data"
    }
   ],
   "source": [
    "cdf_exponencial = stats.exponpow.cdf(tempos, b, scale=12000, loc=0) #FDA\n",
    "cdf_gamma = stats.beta.cdf(tempos, k_gama, a, scale=12000, loc=0)\n",
    "\n",
    "dados_fra_plot, = plt.plot(tempos, fra, '-', color='black', label=\"F.R.A dos dados\")\n",
    "cdf_exp_plot,   = plt.plot(tempos, cdf_exponencial, '-', color='red', label = \"Cumulativa da exponencial\")\n",
    "cdf_gamma_plot, = plt.plot(tempos, cdf_gamma, '-', color='green', label = \"Cumulativa da distribuição Gamma\")\n",
    "\n",
    "plt.legend(handles=[dados_fra_plot, cdf_exp_plot, cdf_gamma_plot],bbox_to_anchor=(2.4,1))\n",
    "\n",
    "for i in range(len(tempos)):\n",
    "    plt.plot((tempos[i], tempos[i]), (fra[i], cdf_exponencial[i]), ':', color=\"red\", alpha=0.3)\n",
    "    #Omitido para não poluir muito o gráfico\n",
    "    plt.plot((tempos[i], tempos[i]), (fra[i], cdf_gamma[i]), '--', color=\"green\", alpha=0.3)\n",
    "    "
   ]
  },
  {
   "cell_type": "markdown",
   "metadata": {},
   "source": [
    "___\n",
    "### Itens 10 e 11 - Resolução:"
   ]
  },
  {
   "cell_type": "code",
   "execution_count": 183,
   "metadata": {
    "collapsed": false
   },
   "outputs": [
    {
     "name": "stdout",
     "output_type": "stream",
     "text": [
      "Erro quadrático da CDF da Exponencial versus F.R.A 0.483219534205\n",
      "Erro quadrático da CDF da beta versus F.R.A 2.51694845805\n"
     ]
    }
   ],
   "source": [
    "erro_quad_cdf_exponencial = sum((fra - cdf_exponencial)**2)\n",
    "\n",
    "erro_quad_cdf_gamma = sum((fra - cdf_gamma)**2)\n",
    "\n",
    "print(\"Erro quadrático da CDF da Exponencial versus F.R.A\", erro_quad_cdf_exponencial)\n",
    "print(\"Erro quadrático da CDF da beta versus F.R.A\", erro_quad_cdf_gamma)"
   ]
  },
  {
   "cell_type": "code",
   "execution_count": 178,
   "metadata": {
    "collapsed": false
   },
   "outputs": [
    {
     "name": "stdout",
     "output_type": "stream",
     "text": [
      "Erro da soma do módulo das diferenças da exponencial versus F.R.A: 4.185820964919304 \n",
      "Erro da soma do módulo das diferenças da gamma versus F.R.A: 10.015687848926971\n"
     ]
    }
   ],
   "source": [
    "# Diferenças absolutas\n",
    "soma_difs_cdf_expoencial = sum( abs(fra - cdf_exponencial))\n",
    "soma_difs_cdf_gamma = sum( abs(fra - cdf_gamma))\n",
    "\n",
    "print(\"Erro da soma do módulo das diferenças da exponencial versus F.R.A: {0} \\nErro da soma do módulo das diferenças da gamma versus F.R.A: {1}\".format(soma_difs_cdf_expoencial, soma_difs_cdf_gamma))"
   ]
  },
  {
   "cell_type": "code",
   "execution_count": 187,
   "metadata": {
    "collapsed": false
   },
   "outputs": [
    {
     "name": "stdout",
     "output_type": "stream",
     "text": [
      "Teste K-S para a exponencial com μ= 9865.99: 0.190\n",
      "Teste K-S para a beta com scale=4289.561, loc=0 e a=2.300  0.331:\n"
     ]
    }
   ],
   "source": [
    "# Kolmogorov-Smirnov goodness-of-fit test\n",
    "ks_aderencia_exp = max(abs(fra-cdf_exponencial))\n",
    "ks_aderencia_gamma = max(abs(fra-cdf_gamma))\n",
    "\n",
    "\n",
    "print(\"Teste K-S para a exponencial com μ= {:4.2f}: {:4.3f}\\n\\\n",
    "Teste K-S para a beta com scale={:4.3f}, loc=0 e a={:4.3f}  {:4.3f}:\".format(media, ks_aderencia_exp, teta_gama, k_gama, ks_aderencia_gamma))"
   ]
  },
  {
   "cell_type": "code",
   "execution_count": 188,
   "metadata": {
    "collapsed": false
   },
   "outputs": [
    {
     "name": "stdout",
     "output_type": "stream",
     "text": [
      "8343.89059234\n",
      "Erro quadrático da CDF da Exponencial versus F.R.A 0.483219534205\n",
      "\n",
      "10575.2493174\n",
      "Erro quadrático da CDF da beta versus F.R.A 2.51694845805\n"
     ]
    },
    {
     "data": {
      "text/plain": [
       "(None, None)"
      ]
     },
     "execution_count": 188,
     "metadata": {},
     "output_type": "execute_result"
    }
   ],
   "source": [
    "print(np.mean(q_gamma)), print(\"Erro quadrático da CDF da Exponencial versus F.R.A\", erro_quad_cdf_exponencial)\n",
    "print()\n",
    "print(np.mean(q_exp)), print(\"Erro quadrático da CDF da beta versus F.R.A\", erro_quad_cdf_gamma)"
   ]
  },
  {
   "cell_type": "markdown",
   "metadata": {},
   "source": [
    "podemos concluir que o erro da exponencial é menor que a beta."
   ]
  }
 ],
 "metadata": {
  "anaconda-cloud": {},
  "kernelspec": {
   "display_name": "Python [Root]",
   "language": "python",
   "name": "Python [Root]"
  },
  "language_info": {
   "codemirror_mode": {
    "name": "ipython",
    "version": 3
   },
   "file_extension": ".py",
   "mimetype": "text/x-python",
   "name": "python",
   "nbconvert_exporter": "python",
   "pygments_lexer": "ipython3",
   "version": "3.5.2"
  }
 },
 "nbformat": 4,
 "nbformat_minor": 0
}
